{
 "cells": [
  {
   "cell_type": "code",
   "execution_count": 1,
   "id": "655409a6",
   "metadata": {},
   "outputs": [],
   "source": [
    "import yaml\n",
    "import matplotlib.pyplot as plt\n",
    "from lvmsurveysim import IFU, Telescope\n",
    "from lvmsurveysim.schedule import ObservingPlan, Simulator, TileDB\n",
    "from lvmsurveysim.target import TargetList\n",
    "from lvmsurveysim.target import Target\n",
    "from astropy.io import fits\n",
    "from astropy.wcs import WCS\n",
    "from astropy.coordinates import SkyCoord\n",
    "from astropy.visualization import MinMaxInterval, PercentileInterval, SqrtStretch, ImageNormalize"
   ]
  },
  {
   "cell_type": "code",
   "execution_count": 2,
   "id": "6fbdf116",
   "metadata": {},
   "outputs": [
    {
     "data": {
      "text/plain": [
       "{'SMC': {'coords': [13.1583, -72.8003],\n",
       "  'region_type': 'ellipse',\n",
       "  'frame': 'icrs',\n",
       "  'region_params': {'a': 3.0, 'b': 1.78, 'pa': -45},\n",
       "  'priority': 30,\n",
       "  'observatory': 'LCO',\n",
       "  'telescope': 'LVM-160',\n",
       "  'max_airmass': 1.75,\n",
       "  'min_shadowheight': 1.0,\n",
       "  'exptime': 1200,\n",
       "  'n_exposures': 9,\n",
       "  'min_exposures': 3,\n",
       "  'min_moon_dist': 45,\n",
       "  'max_lunation': 0.25,\n",
       "  'overhead': 1.1,\n",
       "  'tiling_strategy': 'center_first',\n",
       "  'tile_overlap': 0.0416,\n",
       "  'group': ['MCs']}}"
      ]
     },
     "execution_count": 2,
     "metadata": {},
     "output_type": "execute_result"
    }
   ],
   "source": [
    "with open('./smc_rot.yaml', 'r') as f:\n",
    "    tgt = yaml.safe_load(f)\n",
    "tgt"
   ]
  },
  {
   "cell_type": "code",
   "execution_count": 3,
   "id": "aa72d0bd",
   "metadata": {},
   "outputs": [
    {
     "name": "stdout",
     "output_type": "stream",
     "text": [
      "Tiling Survey ...\n",
      "Tiling target SMC\n"
     ]
    }
   ],
   "source": [
    "targets = TargetList(target_file='./smc_rot.yaml')\n",
    "print('Tiling Survey ...')\n",
    "tiledb = TileDB(targets)\n",
    "tiledb.tile_targets()\n",
    "tiledb.tile_table.write('smc_tiles.fits', format='fits', overwrite=True)"
   ]
  },
  {
   "cell_type": "code",
   "execution_count": 4,
   "id": "f01d252d",
   "metadata": {},
   "outputs": [
    {
     "data": {
      "text/html": [
       "<div><i>Table length=106</i>\n",
       "<table id=\"table140201625411008\" class=\"table-striped table-bordered table-condensed\">\n",
       "<thead><tr><th>tile_id</th><th>target_index</th><th>target</th><th>telescope</th><th>ra</th><th>dec</th><th>pa</th><th>target_priority</th><th>tile_priority</th><th>airmass_limit</th><th>lunation_limit</th><th>hz_limit</th><th>moon_distance_limit</th><th>total_exptime</th><th>visit_exptime</th></tr></thead>\n",
       "<thead><tr><th>int64</th><th>int64</th><th>str3</th><th>str7</th><th>float64</th><th>float64</th><th>float64</th><th>int64</th><th>int64</th><th>float64</th><th>float64</th><th>float64</th><th>int64</th><th>int64</th><th>int64</th></tr></thead>\n",
       "<tr><td>1000001</td><td>0</td><td>SMC</td><td>LVM-160</td><td>17.66710273392139</td><td>-75.17576156771024</td><td>355.6893729258706</td><td>30</td><td>1</td><td>1.75</td><td>0.25</td><td>1.0</td><td>45</td><td>10800</td><td>3600</td></tr>\n",
       "<tr><td>1000002</td><td>0</td><td>SMC</td><td>LVM-160</td><td>16.202668839427055</td><td>-74.98852989268426</td><td>357.08973229728815</td><td>30</td><td>3</td><td>1.75</td><td>0.25</td><td>1.0</td><td>45</td><td>10800</td><td>3600</td></tr>\n",
       "<tr><td>1000003</td><td>0</td><td>SMC</td><td>LVM-160</td><td>19.004604209267065</td><td>-74.93450277542833</td><td>354.4118305393602</td><td>30</td><td>1</td><td>1.75</td><td>0.25</td><td>1.0</td><td>45</td><td>10800</td><td>3600</td></tr>\n",
       "<tr><td>1000004</td><td>0</td><td>SMC</td><td>LVM-160</td><td>14.77395743585471</td><td>-74.79225506857156</td><td>358.4556740048407</td><td>30</td><td>4</td><td>1.75</td><td>0.25</td><td>1.0</td><td>45</td><td>10800</td><td>3600</td></tr>\n",
       "<tr><td>1000005</td><td>0</td><td>SMC</td><td>LVM-160</td><td>17.546705731510542</td><td>-74.75574967687923</td><td>355.80564963785173</td><td>30</td><td>3</td><td>1.75</td><td>0.25</td><td>1.0</td><td>45</td><td>10800</td><td>3600</td></tr>\n",
       "<tr><td>1000006</td><td>0</td><td>SMC</td><td>LVM-160</td><td>20.300698398276253</td><td>-74.68572754789129</td><td>353.1743961856275</td><td>30</td><td>1</td><td>1.75</td><td>0.25</td><td>1.0</td><td>45</td><td>10800</td><td>3600</td></tr>\n",
       "<tr><td>...</td><td>...</td><td>...</td><td>...</td><td>...</td><td>...</td><td>...</td><td>...</td><td>...</td><td>...</td><td>...</td><td>...</td><td>...</td><td>...</td><td>...</td></tr>\n",
       "<tr><td>1000100</td><td>0</td><td>SMC</td><td>LVM-160</td><td>14.460361477991562</td><td>-71.00282326362525</td><td>358.7555668946878</td><td>30</td><td>5</td><td>1.75</td><td>0.25</td><td>1.0</td><td>45</td><td>10800</td><td>3600</td></tr>\n",
       "<tr><td>1000101</td><td>0</td><td>SMC</td><td>LVM-160</td><td>8.912512307553508</td><td>-70.74728014031822</td><td>4.058075244848213</td><td>30</td><td>2</td><td>1.75</td><td>0.25</td><td>1.0</td><td>45</td><td>10800</td><td>3600</td></tr>\n",
       "<tr><td>1000102</td><td>0</td><td>SMC</td><td>LVM-160</td><td>11.122705672457874</td><td>-70.78546628682186</td><td>1.9457164195210683</td><td>30</td><td>4</td><td>1.75</td><td>0.25</td><td>1.0</td><td>45</td><td>10800</td><td>3600</td></tr>\n",
       "<tr><td>1000103</td><td>0</td><td>SMC</td><td>LVM-160</td><td>13.33841353041839</td><td>-70.79675140220769</td><td>359.82783594622765</td><td>30</td><td>5</td><td>1.75</td><td>0.25</td><td>1.0</td><td>45</td><td>10800</td><td>3600</td></tr>\n",
       "<tr><td>1000104</td><td>0</td><td>SMC</td><td>LVM-160</td><td>7.867553403074596</td><td>-70.50838757127026</td><td>5.057299163180174</td><td>30</td><td>1</td><td>1.75</td><td>0.25</td><td>1.0</td><td>45</td><td>10800</td><td>3600</td></tr>\n",
       "<tr><td>1000105</td><td>0</td><td>SMC</td><td>LVM-160</td><td>10.049693168052615</td><td>-70.55942904331705</td><td>2.9716825495254655</td><td>30</td><td>2</td><td>1.75</td><td>0.25</td><td>1.0</td><td>45</td><td>10800</td><td>3600</td></tr>\n",
       "<tr><td>1000106</td><td>0</td><td>SMC</td><td>LVM-160</td><td>12.240052077491356</td><td>-70.58391648550307</td><td>0.877835885757484</td><td>30</td><td>3</td><td>1.75</td><td>0.25</td><td>1.0</td><td>45</td><td>10800</td><td>3600</td></tr>\n",
       "</table></div>"
      ],
      "text/plain": [
       "<Table length=106>\n",
       "tile_id target_index target ... moon_distance_limit total_exptime visit_exptime\n",
       " int64     int64      str3  ...        int64            int64         int64    \n",
       "------- ------------ ------ ... ------------------- ------------- -------------\n",
       "1000001            0    SMC ...                  45         10800          3600\n",
       "1000002            0    SMC ...                  45         10800          3600\n",
       "1000003            0    SMC ...                  45         10800          3600\n",
       "1000004            0    SMC ...                  45         10800          3600\n",
       "1000005            0    SMC ...                  45         10800          3600\n",
       "1000006            0    SMC ...                  45         10800          3600\n",
       "    ...          ...    ... ...                 ...           ...           ...\n",
       "1000100            0    SMC ...                  45         10800          3600\n",
       "1000101            0    SMC ...                  45         10800          3600\n",
       "1000102            0    SMC ...                  45         10800          3600\n",
       "1000103            0    SMC ...                  45         10800          3600\n",
       "1000104            0    SMC ...                  45         10800          3600\n",
       "1000105            0    SMC ...                  45         10800          3600\n",
       "1000106            0    SMC ...                  45         10800          3600"
      ]
     },
     "execution_count": 4,
     "metadata": {},
     "output_type": "execute_result"
    }
   ],
   "source": [
    "tbl = tiledb.tile_table\n",
    "tbl"
   ]
  },
  {
   "cell_type": "code",
   "execution_count": 5,
   "id": "dac08ec6",
   "metadata": {},
   "outputs": [],
   "source": [
    "ifu = IFU.from_config()\n",
    "lvm160 = Telescope.from_config('LVM-160')"
   ]
  },
  {
   "cell_type": "code",
   "execution_count": 6,
   "id": "d3cdc887",
   "metadata": {},
   "outputs": [
    {
     "data": {
      "text/latex": [
       "$348.42061 \\; \\mathrm{\\frac{{}^{\\prime\\prime}}{mm}}$"
      ],
      "text/plain": [
       "<Quantity 348.42060811 arcsec / mm>"
      ]
     },
     "execution_count": 6,
     "metadata": {},
     "output_type": "execute_result"
    }
   ],
   "source": [
    "lvm160.plate_scale"
   ]
  },
  {
   "cell_type": "code",
   "execution_count": 7,
   "id": "6d7a46c0",
   "metadata": {},
   "outputs": [
    {
     "ename": "FileNotFoundError",
     "evalue": "[Errno 2] No such file or directory: '010.fl.fits.gz'",
     "output_type": "error",
     "traceback": [
      "\u001b[0;31m---------------------------------------------------------------------------\u001b[0m",
      "\u001b[0;31mFileNotFoundError\u001b[0m                         Traceback (most recent call last)",
      "Cell \u001b[0;32mIn[7], line 2\u001b[0m\n\u001b[1;32m      1\u001b[0m \u001b[38;5;66;03m# Load SHASSA image\u001b[39;00m\n\u001b[0;32m----> 2\u001b[0m dat, hdr \u001b[38;5;241m=\u001b[39m \u001b[43mfits\u001b[49m\u001b[38;5;241;43m.\u001b[39;49m\u001b[43mgetdata\u001b[49m\u001b[43m(\u001b[49m\u001b[38;5;124;43m'\u001b[39;49m\u001b[38;5;124;43m010.fl.fits.gz\u001b[39;49m\u001b[38;5;124;43m'\u001b[39;49m\u001b[43m,\u001b[49m\u001b[43m \u001b[49m\u001b[43mheader\u001b[49m\u001b[38;5;241;43m=\u001b[39;49m\u001b[38;5;28;43;01mTrue\u001b[39;49;00m\u001b[43m)\u001b[49m\n\u001b[1;32m      3\u001b[0m wcs \u001b[38;5;241m=\u001b[39m WCS(hdr)\n\u001b[1;32m      4\u001b[0m \u001b[38;5;28mprint\u001b[39m(dat\u001b[38;5;241m.\u001b[39mshape)\n",
      "File \u001b[0;32m~/software/virtualEnvs/lvmscheduler/lib/python3.9/site-packages/astropy/io/fits/convenience.py:220\u001b[0m, in \u001b[0;36mgetdata\u001b[0;34m(filename, header, lower, upper, view, *args, **kwargs)\u001b[0m\n\u001b[1;32m    215\u001b[0m extver \u001b[38;5;241m=\u001b[39m kwargs\u001b[38;5;241m.\u001b[39mget(\u001b[38;5;124m\"\u001b[39m\u001b[38;5;124mextver\u001b[39m\u001b[38;5;124m\"\u001b[39m)\n\u001b[1;32m    216\u001b[0m ext_given \u001b[38;5;241m=\u001b[39m \u001b[38;5;129;01mnot\u001b[39;00m (\n\u001b[1;32m    217\u001b[0m     \u001b[38;5;28mlen\u001b[39m(args) \u001b[38;5;241m==\u001b[39m \u001b[38;5;241m0\u001b[39m \u001b[38;5;129;01mand\u001b[39;00m ext \u001b[38;5;129;01mis\u001b[39;00m \u001b[38;5;28;01mNone\u001b[39;00m \u001b[38;5;129;01mand\u001b[39;00m extname \u001b[38;5;129;01mis\u001b[39;00m \u001b[38;5;28;01mNone\u001b[39;00m \u001b[38;5;129;01mand\u001b[39;00m extver \u001b[38;5;129;01mis\u001b[39;00m \u001b[38;5;28;01mNone\u001b[39;00m\n\u001b[1;32m    218\u001b[0m )\n\u001b[0;32m--> 220\u001b[0m hdulist, extidx \u001b[38;5;241m=\u001b[39m \u001b[43m_getext\u001b[49m\u001b[43m(\u001b[49m\u001b[43mfilename\u001b[49m\u001b[43m,\u001b[49m\u001b[43m \u001b[49m\u001b[43mmode\u001b[49m\u001b[43m,\u001b[49m\u001b[43m \u001b[49m\u001b[38;5;241;43m*\u001b[39;49m\u001b[43margs\u001b[49m\u001b[43m,\u001b[49m\u001b[43m \u001b[49m\u001b[38;5;241;43m*\u001b[39;49m\u001b[38;5;241;43m*\u001b[39;49m\u001b[43mkwargs\u001b[49m\u001b[43m)\u001b[49m\n\u001b[1;32m    221\u001b[0m \u001b[38;5;28;01mtry\u001b[39;00m:\n\u001b[1;32m    222\u001b[0m     hdu \u001b[38;5;241m=\u001b[39m hdulist[extidx]\n",
      "File \u001b[0;32m~/software/virtualEnvs/lvmscheduler/lib/python3.9/site-packages/astropy/io/fits/convenience.py:1113\u001b[0m, in \u001b[0;36m_getext\u001b[0;34m(filename, mode, ext, extname, extver, *args, **kwargs)\u001b[0m\n\u001b[1;32m   1110\u001b[0m \u001b[38;5;28;01melif\u001b[39;00m extver \u001b[38;5;129;01mand\u001b[39;00m extname \u001b[38;5;129;01mis\u001b[39;00m \u001b[38;5;28;01mNone\u001b[39;00m:\n\u001b[1;32m   1111\u001b[0m     \u001b[38;5;28;01mraise\u001b[39;00m \u001b[38;5;167;01mTypeError\u001b[39;00m(\u001b[38;5;124m\"\u001b[39m\u001b[38;5;124mextver alone cannot specify an extension.\u001b[39m\u001b[38;5;124m\"\u001b[39m)\n\u001b[0;32m-> 1113\u001b[0m hdulist \u001b[38;5;241m=\u001b[39m \u001b[43mfitsopen\u001b[49m\u001b[43m(\u001b[49m\u001b[43mfilename\u001b[49m\u001b[43m,\u001b[49m\u001b[43m \u001b[49m\u001b[43mmode\u001b[49m\u001b[38;5;241;43m=\u001b[39;49m\u001b[43mmode\u001b[49m\u001b[43m,\u001b[49m\u001b[43m \u001b[49m\u001b[38;5;241;43m*\u001b[39;49m\u001b[38;5;241;43m*\u001b[39;49m\u001b[43mkwargs\u001b[49m\u001b[43m)\u001b[49m\n\u001b[1;32m   1115\u001b[0m \u001b[38;5;28;01mreturn\u001b[39;00m hdulist, ext\n",
      "File \u001b[0;32m~/software/virtualEnvs/lvmscheduler/lib/python3.9/site-packages/astropy/io/fits/hdu/hdulist.py:213\u001b[0m, in \u001b[0;36mfitsopen\u001b[0;34m(name, mode, memmap, save_backup, cache, lazy_load_hdus, ignore_missing_simple, use_fsspec, fsspec_kwargs, **kwargs)\u001b[0m\n\u001b[1;32m    210\u001b[0m \u001b[38;5;28;01mif\u001b[39;00m \u001b[38;5;129;01mnot\u001b[39;00m name:\n\u001b[1;32m    211\u001b[0m     \u001b[38;5;28;01mraise\u001b[39;00m \u001b[38;5;167;01mValueError\u001b[39;00m(\u001b[38;5;124mf\u001b[39m\u001b[38;5;124m\"\u001b[39m\u001b[38;5;124mEmpty filename: \u001b[39m\u001b[38;5;132;01m{\u001b[39;00mname\u001b[38;5;132;01m!r}\u001b[39;00m\u001b[38;5;124m\"\u001b[39m)\n\u001b[0;32m--> 213\u001b[0m \u001b[38;5;28;01mreturn\u001b[39;00m \u001b[43mHDUList\u001b[49m\u001b[38;5;241;43m.\u001b[39;49m\u001b[43mfromfile\u001b[49m\u001b[43m(\u001b[49m\n\u001b[1;32m    214\u001b[0m \u001b[43m    \u001b[49m\u001b[43mname\u001b[49m\u001b[43m,\u001b[49m\n\u001b[1;32m    215\u001b[0m \u001b[43m    \u001b[49m\u001b[43mmode\u001b[49m\u001b[43m,\u001b[49m\n\u001b[1;32m    216\u001b[0m \u001b[43m    \u001b[49m\u001b[43mmemmap\u001b[49m\u001b[43m,\u001b[49m\n\u001b[1;32m    217\u001b[0m \u001b[43m    \u001b[49m\u001b[43msave_backup\u001b[49m\u001b[43m,\u001b[49m\n\u001b[1;32m    218\u001b[0m \u001b[43m    \u001b[49m\u001b[43mcache\u001b[49m\u001b[43m,\u001b[49m\n\u001b[1;32m    219\u001b[0m \u001b[43m    \u001b[49m\u001b[43mlazy_load_hdus\u001b[49m\u001b[43m,\u001b[49m\n\u001b[1;32m    220\u001b[0m \u001b[43m    \u001b[49m\u001b[43mignore_missing_simple\u001b[49m\u001b[43m,\u001b[49m\n\u001b[1;32m    221\u001b[0m \u001b[43m    \u001b[49m\u001b[43muse_fsspec\u001b[49m\u001b[38;5;241;43m=\u001b[39;49m\u001b[43muse_fsspec\u001b[49m\u001b[43m,\u001b[49m\n\u001b[1;32m    222\u001b[0m \u001b[43m    \u001b[49m\u001b[43mfsspec_kwargs\u001b[49m\u001b[38;5;241;43m=\u001b[39;49m\u001b[43mfsspec_kwargs\u001b[49m\u001b[43m,\u001b[49m\n\u001b[1;32m    223\u001b[0m \u001b[43m    \u001b[49m\u001b[38;5;241;43m*\u001b[39;49m\u001b[38;5;241;43m*\u001b[39;49m\u001b[43mkwargs\u001b[49m\u001b[43m,\u001b[49m\n\u001b[1;32m    224\u001b[0m \u001b[43m\u001b[49m\u001b[43m)\u001b[49m\n",
      "File \u001b[0;32m~/software/virtualEnvs/lvmscheduler/lib/python3.9/site-packages/astropy/io/fits/hdu/hdulist.py:476\u001b[0m, in \u001b[0;36mHDUList.fromfile\u001b[0;34m(cls, fileobj, mode, memmap, save_backup, cache, lazy_load_hdus, ignore_missing_simple, **kwargs)\u001b[0m\n\u001b[1;32m    457\u001b[0m \u001b[38;5;129m@classmethod\u001b[39m\n\u001b[1;32m    458\u001b[0m \u001b[38;5;28;01mdef\u001b[39;00m \u001b[38;5;21mfromfile\u001b[39m(\n\u001b[1;32m    459\u001b[0m     \u001b[38;5;28mcls\u001b[39m,\n\u001b[0;32m   (...)\u001b[0m\n\u001b[1;32m    467\u001b[0m     \u001b[38;5;241m*\u001b[39m\u001b[38;5;241m*\u001b[39mkwargs,\n\u001b[1;32m    468\u001b[0m ):\n\u001b[1;32m    469\u001b[0m \u001b[38;5;250m    \u001b[39m\u001b[38;5;124;03m\"\"\"\u001b[39;00m\n\u001b[1;32m    470\u001b[0m \u001b[38;5;124;03m    Creates an `HDUList` instance from a file-like object.\u001b[39;00m\n\u001b[1;32m    471\u001b[0m \n\u001b[0;32m   (...)\u001b[0m\n\u001b[1;32m    474\u001b[0m \u001b[38;5;124;03m    documentation for details of the parameters accepted by this method).\u001b[39;00m\n\u001b[1;32m    475\u001b[0m \u001b[38;5;124;03m    \"\"\"\u001b[39;00m\n\u001b[0;32m--> 476\u001b[0m     \u001b[38;5;28;01mreturn\u001b[39;00m \u001b[38;5;28;43mcls\u001b[39;49m\u001b[38;5;241;43m.\u001b[39;49m\u001b[43m_readfrom\u001b[49m\u001b[43m(\u001b[49m\n\u001b[1;32m    477\u001b[0m \u001b[43m        \u001b[49m\u001b[43mfileobj\u001b[49m\u001b[38;5;241;43m=\u001b[39;49m\u001b[43mfileobj\u001b[49m\u001b[43m,\u001b[49m\n\u001b[1;32m    478\u001b[0m \u001b[43m        \u001b[49m\u001b[43mmode\u001b[49m\u001b[38;5;241;43m=\u001b[39;49m\u001b[43mmode\u001b[49m\u001b[43m,\u001b[49m\n\u001b[1;32m    479\u001b[0m \u001b[43m        \u001b[49m\u001b[43mmemmap\u001b[49m\u001b[38;5;241;43m=\u001b[39;49m\u001b[43mmemmap\u001b[49m\u001b[43m,\u001b[49m\n\u001b[1;32m    480\u001b[0m \u001b[43m        \u001b[49m\u001b[43msave_backup\u001b[49m\u001b[38;5;241;43m=\u001b[39;49m\u001b[43msave_backup\u001b[49m\u001b[43m,\u001b[49m\n\u001b[1;32m    481\u001b[0m \u001b[43m        \u001b[49m\u001b[43mcache\u001b[49m\u001b[38;5;241;43m=\u001b[39;49m\u001b[43mcache\u001b[49m\u001b[43m,\u001b[49m\n\u001b[1;32m    482\u001b[0m \u001b[43m        \u001b[49m\u001b[43mignore_missing_simple\u001b[49m\u001b[38;5;241;43m=\u001b[39;49m\u001b[43mignore_missing_simple\u001b[49m\u001b[43m,\u001b[49m\n\u001b[1;32m    483\u001b[0m \u001b[43m        \u001b[49m\u001b[43mlazy_load_hdus\u001b[49m\u001b[38;5;241;43m=\u001b[39;49m\u001b[43mlazy_load_hdus\u001b[49m\u001b[43m,\u001b[49m\n\u001b[1;32m    484\u001b[0m \u001b[43m        \u001b[49m\u001b[38;5;241;43m*\u001b[39;49m\u001b[38;5;241;43m*\u001b[39;49m\u001b[43mkwargs\u001b[49m\u001b[43m,\u001b[49m\n\u001b[1;32m    485\u001b[0m \u001b[43m    \u001b[49m\u001b[43m)\u001b[49m\n",
      "File \u001b[0;32m~/software/virtualEnvs/lvmscheduler/lib/python3.9/site-packages/astropy/io/fits/hdu/hdulist.py:1146\u001b[0m, in \u001b[0;36mHDUList._readfrom\u001b[0;34m(cls, fileobj, data, mode, memmap, cache, lazy_load_hdus, ignore_missing_simple, use_fsspec, fsspec_kwargs, **kwargs)\u001b[0m\n\u001b[1;32m   1143\u001b[0m \u001b[38;5;28;01mif\u001b[39;00m fileobj \u001b[38;5;129;01mis\u001b[39;00m \u001b[38;5;129;01mnot\u001b[39;00m \u001b[38;5;28;01mNone\u001b[39;00m:\n\u001b[1;32m   1144\u001b[0m     \u001b[38;5;28;01mif\u001b[39;00m \u001b[38;5;129;01mnot\u001b[39;00m \u001b[38;5;28misinstance\u001b[39m(fileobj, _File):\n\u001b[1;32m   1145\u001b[0m         \u001b[38;5;66;03m# instantiate a FITS file object (ffo)\u001b[39;00m\n\u001b[0;32m-> 1146\u001b[0m         fileobj \u001b[38;5;241m=\u001b[39m \u001b[43m_File\u001b[49m\u001b[43m(\u001b[49m\n\u001b[1;32m   1147\u001b[0m \u001b[43m            \u001b[49m\u001b[43mfileobj\u001b[49m\u001b[43m,\u001b[49m\n\u001b[1;32m   1148\u001b[0m \u001b[43m            \u001b[49m\u001b[43mmode\u001b[49m\u001b[38;5;241;43m=\u001b[39;49m\u001b[43mmode\u001b[49m\u001b[43m,\u001b[49m\n\u001b[1;32m   1149\u001b[0m \u001b[43m            \u001b[49m\u001b[43mmemmap\u001b[49m\u001b[38;5;241;43m=\u001b[39;49m\u001b[43mmemmap\u001b[49m\u001b[43m,\u001b[49m\n\u001b[1;32m   1150\u001b[0m \u001b[43m            \u001b[49m\u001b[43mcache\u001b[49m\u001b[38;5;241;43m=\u001b[39;49m\u001b[43mcache\u001b[49m\u001b[43m,\u001b[49m\n\u001b[1;32m   1151\u001b[0m \u001b[43m            \u001b[49m\u001b[43muse_fsspec\u001b[49m\u001b[38;5;241;43m=\u001b[39;49m\u001b[43muse_fsspec\u001b[49m\u001b[43m,\u001b[49m\n\u001b[1;32m   1152\u001b[0m \u001b[43m            \u001b[49m\u001b[43mfsspec_kwargs\u001b[49m\u001b[38;5;241;43m=\u001b[39;49m\u001b[43mfsspec_kwargs\u001b[49m\u001b[43m,\u001b[49m\n\u001b[1;32m   1153\u001b[0m \u001b[43m        \u001b[49m\u001b[43m)\u001b[49m\n\u001b[1;32m   1154\u001b[0m     \u001b[38;5;66;03m# The Astropy mode is determined by the _File initializer if the\u001b[39;00m\n\u001b[1;32m   1155\u001b[0m     \u001b[38;5;66;03m# supplied mode was None\u001b[39;00m\n\u001b[1;32m   1156\u001b[0m     mode \u001b[38;5;241m=\u001b[39m fileobj\u001b[38;5;241m.\u001b[39mmode\n",
      "File \u001b[0;32m~/software/virtualEnvs/lvmscheduler/lib/python3.9/site-packages/astropy/io/fits/file.py:217\u001b[0m, in \u001b[0;36m_File.__init__\u001b[0;34m(self, fileobj, mode, memmap, overwrite, cache, use_fsspec, fsspec_kwargs)\u001b[0m\n\u001b[1;32m    215\u001b[0m     \u001b[38;5;28mself\u001b[39m\u001b[38;5;241m.\u001b[39m_open_fileobj(fileobj, mode, overwrite)\n\u001b[1;32m    216\u001b[0m \u001b[38;5;28;01melif\u001b[39;00m \u001b[38;5;28misinstance\u001b[39m(fileobj, (\u001b[38;5;28mstr\u001b[39m, \u001b[38;5;28mbytes\u001b[39m)):\n\u001b[0;32m--> 217\u001b[0m     \u001b[38;5;28;43mself\u001b[39;49m\u001b[38;5;241;43m.\u001b[39;49m\u001b[43m_open_filename\u001b[49m\u001b[43m(\u001b[49m\u001b[43mfileobj\u001b[49m\u001b[43m,\u001b[49m\u001b[43m \u001b[49m\u001b[43mmode\u001b[49m\u001b[43m,\u001b[49m\u001b[43m \u001b[49m\u001b[43moverwrite\u001b[49m\u001b[43m)\u001b[49m\n\u001b[1;32m    218\u001b[0m \u001b[38;5;28;01melse\u001b[39;00m:\n\u001b[1;32m    219\u001b[0m     \u001b[38;5;28mself\u001b[39m\u001b[38;5;241m.\u001b[39m_open_filelike(fileobj, mode, overwrite)\n",
      "File \u001b[0;32m~/software/virtualEnvs/lvmscheduler/lib/python3.9/site-packages/astropy/io/fits/file.py:626\u001b[0m, in \u001b[0;36m_File._open_filename\u001b[0;34m(self, filename, mode, overwrite)\u001b[0m\n\u001b[1;32m    623\u001b[0m ext \u001b[38;5;241m=\u001b[39m os\u001b[38;5;241m.\u001b[39mpath\u001b[38;5;241m.\u001b[39msplitext(\u001b[38;5;28mself\u001b[39m\u001b[38;5;241m.\u001b[39mname)[\u001b[38;5;241m1\u001b[39m]\n\u001b[1;32m    625\u001b[0m \u001b[38;5;28;01mif\u001b[39;00m \u001b[38;5;129;01mnot\u001b[39;00m \u001b[38;5;28mself\u001b[39m\u001b[38;5;241m.\u001b[39m_try_read_compressed(\u001b[38;5;28mself\u001b[39m\u001b[38;5;241m.\u001b[39mname, magic, mode, ext\u001b[38;5;241m=\u001b[39mext):\n\u001b[0;32m--> 626\u001b[0m     \u001b[38;5;28mself\u001b[39m\u001b[38;5;241m.\u001b[39m_file \u001b[38;5;241m=\u001b[39m \u001b[38;5;28;43mopen\u001b[39;49m\u001b[43m(\u001b[49m\u001b[38;5;28;43mself\u001b[39;49m\u001b[38;5;241;43m.\u001b[39;49m\u001b[43mname\u001b[49m\u001b[43m,\u001b[49m\u001b[43m \u001b[49m\u001b[43mIO_FITS_MODES\u001b[49m\u001b[43m[\u001b[49m\u001b[43mmode\u001b[49m\u001b[43m]\u001b[49m\u001b[43m)\u001b[49m\n\u001b[1;32m    627\u001b[0m     \u001b[38;5;28mself\u001b[39m\u001b[38;5;241m.\u001b[39mclose_on_error \u001b[38;5;241m=\u001b[39m \u001b[38;5;28;01mTrue\u001b[39;00m\n\u001b[1;32m    629\u001b[0m \u001b[38;5;66;03m# Make certain we're back at the beginning of the file\u001b[39;00m\n\u001b[1;32m    630\u001b[0m \u001b[38;5;66;03m# BZ2File does not support seek when the file is open for writing, but\u001b[39;00m\n\u001b[1;32m    631\u001b[0m \u001b[38;5;66;03m# when opening a file for write, bz2.BZ2File always truncates anyway.\u001b[39;00m\n",
      "\u001b[0;31mFileNotFoundError\u001b[0m: [Errno 2] No such file or directory: '010.fl.fits.gz'"
     ]
    }
   ],
   "source": [
    "# Load SHASSA image\n",
    "dat, hdr = fits.getdata('010.fl.fits.gz', header=True)\n",
    "wcs = WCS(hdr)\n",
    "print(dat.shape)"
   ]
  },
  {
   "cell_type": "code",
   "execution_count": null,
   "id": "d3ddec32",
   "metadata": {},
   "outputs": [],
   "source": [
    "fig = plt.figure()\n",
    "ax = fig.add_subplot(projection=wcs)\n",
    "norm = ImageNormalize(dat, interval=PercentileInterval(98),\n",
    "                      stretch=SqrtStretch())\n",
    "ax.imshow(dat, origin='lower', cmap='cubehelix', norm=norm)\n",
    "ax.coords[0].set_axislabel('Right Ascension (J2000)')\n",
    "ax.coords[1].set_axislabel('Declination (J2000)')\n",
    "ax.grid(color='yellow', ls=':', lw=1)\n",
    "ax.set_xlim(0, 500)\n",
    "ax.set_ylim(0, 500)\n",
    "for p in tbl:\n",
    "    patch = ifu.get_patch(scale=lvm160.plate_scale, centre=[p['RA'], p['DEC']], pa=p['PA'],\n",
    "                            edgecolor='None', linewidth=0.0, alpha=0.4, facecolor='b',\n",
    "                            transform=ax.get_transform('fk5'))[0]\n",
    "    ax.add_patch(patch)"
   ]
  },
  {
   "cell_type": "code",
   "execution_count": null,
   "id": "bdf92935",
   "metadata": {},
   "outputs": [],
   "source": [
    "smc = Target.from_list('SMC',targets=tgt)\n",
    "smc"
   ]
  },
  {
   "cell_type": "code",
   "execution_count": null,
   "id": "0a540fbe",
   "metadata": {},
   "outputs": [],
   "source": [
    "fig,ax=smc.plot()\n",
    "fig.set_figheight(3.5)\n",
    "fig.set_figwidth(4)\n",
    "ax.invert_xaxis()"
   ]
  },
  {
   "cell_type": "code",
   "execution_count": null,
   "id": "d2b9e217",
   "metadata": {},
   "outputs": [],
   "source": [
    "# Load MCELS image\n",
    "dat, hdr = fits.getdata('mosaic_ha_02_sub.37.fits', header=True)\n",
    "wcs = WCS(hdr)\n",
    "print(dat.shape)"
   ]
  },
  {
   "cell_type": "code",
   "execution_count": null,
   "id": "bfc93acf",
   "metadata": {},
   "outputs": [],
   "source": [
    "fig = plt.figure()\n",
    "ax = fig.add_subplot(projection=wcs)\n",
    "vmin, vmax = MinMaxInterval().get_limits(dat)\n",
    "print(vmax)\n",
    "norm = ImageNormalize(dat, vmin=0, vmax=150,\n",
    "                      stretch=SqrtStretch())\n",
    "ax.imshow(dat, origin='lower', cmap='cubehelix', norm=norm)\n",
    "ax.coords[0].set_axislabel('Right Ascension (J2000)')\n",
    "ax.coords[1].set_axislabel('Declination (J2000)')\n",
    "ax.grid(color='yellow', ls=':', lw=1)\n",
    "for p in tbl:\n",
    "    patch = ifu.get_patch(scale=lvm160.plate_scale, centre=[p['RA'], p['DEC']], pa=p['PA'],\n",
    "                            edgecolor='None', linewidth=0.0, alpha=0.4, facecolor='w',\n",
    "                            transform=ax.get_transform('fk5'))[0]\n",
    "    ax.add_patch(patch)"
   ]
  },
  {
   "cell_type": "code",
   "execution_count": null,
   "id": "497d6400",
   "metadata": {},
   "outputs": [],
   "source": []
  }
 ],
 "metadata": {
  "kernelspec": {
   "display_name": "lvmscheduler",
   "language": "python",
   "name": "lvmscheduler"
  },
  "language_info": {
   "codemirror_mode": {
    "name": "ipython",
    "version": 3
   },
   "file_extension": ".py",
   "mimetype": "text/x-python",
   "name": "python",
   "nbconvert_exporter": "python",
   "pygments_lexer": "ipython3",
   "version": "3.9.12"
  }
 },
 "nbformat": 4,
 "nbformat_minor": 5
}
